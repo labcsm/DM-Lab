{
 "cells": [
  {
   "cell_type": "code",
   "execution_count": null,
   "metadata": {},
   "outputs": [],
   "source": [
    "import numpy as np\n",
    "import pandas as pd\n",
    "\n",
    "from mlxtend.frequent_patterns import fpgrowth\n",
    "from mlxtend.preprocessing import TransactionEncoder\n",
    "from mlxtend.frequent_patterns import association_rules\n",
    "\n",
    "dataset = [['I1', 'I2', 'I5'],\n",
    "           ['I2', 'I4'],\n",
    "           ['I2', 'I3'],\n",
    "           ['I1', 'I2', 'I4'],\n",
    "           ['I1', 'I3'],\n",
    "           ['I2', 'I3'],\n",
    "           ['I1', 'I3'],\n",
    "           ['I1', 'I2', 'I3', 'I5'],\n",
    "           ['I1', 'I2', 'I3']\n",
    "           ]\n",
    "te = TransactionEncoder()\n",
    "te_ary = te.fit(dataset).transform(dataset)\n",
    "df = pd.DataFrame(te_ary, columns=te.columns_)\n",
    "df"
   ]
  },
  {
   "cell_type": "code",
   "execution_count": null,
   "metadata": {},
   "outputs": [],
   "source": [
    "frequent_itemsets = fpgrowth(df, min_support=0.5, use_colnames=True)\n",
    "frequent_itemsets"
   ]
  },
  {
   "cell_type": "markdown",
   "metadata": {},
   "source": [
    "Step-1: Upload the file\n",
    "\n",
    "Step-2: Click on the \"Associate\" tab in the Explorer window.\n",
    "\n",
    "Step-3: Click on the \"Choose\" button to select the FP-Growth algorithm. Navigate to weka -> associators -> FPGrowth.\n",
    "\n",
    "Step-4: Click \"Start\" to run FP-Growth."
   ]
  }
 ],
 "metadata": {
  "language_info": {
   "name": "python"
  }
 },
 "nbformat": 4,
 "nbformat_minor": 2
}
