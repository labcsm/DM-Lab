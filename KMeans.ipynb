{
 "cells": [
  {
   "cell_type": "code",
   "execution_count": null,
   "metadata": {},
   "outputs": [],
   "source": [
    "from sklearn.cluster import KMeans\n",
    "import numpy as np\n",
    "\n",
    "X = np.array([[1.713,1.586], [0.180,1.786], [0.353,1.240], [0.940,1.566],\n",
    "              [1.486,0.759], [1.266,1.106], [1.540,0.419], [0.459,1.799],\n",
    "              [0.773,0.186], [0.646,0.439]])"
   ]
  },
  {
   "cell_type": "code",
   "execution_count": null,
   "metadata": {},
   "outputs": [],
   "source": [
    "kmeans = KMeans(n_clusters=3, random_state=0).fit(X)\n",
    "\n",
    "# Number of iterations taken by the model\n",
    "kmeans.n_iter_"
   ]
  },
  {
   "cell_type": "code",
   "execution_count": null,
   "metadata": {},
   "outputs": [],
   "source": [
    "# Cluster centers\n",
    "print(kmeans.cluster_centers_)"
   ]
  },
  {
   "cell_type": "code",
   "execution_count": null,
   "metadata": {},
   "outputs": [],
   "source": [
    "# Cluster of each data point\n",
    "print(kmeans.labels_)"
   ]
  },
  {
   "cell_type": "code",
   "execution_count": null,
   "metadata": {},
   "outputs": [],
   "source": [
    "print('Cluster number of Data Point (0.906,0.606) is : ', kmeans.predict([[0.906, 0.606]]))"
   ]
  },
  {
   "cell_type": "markdown",
   "metadata": {},
   "source": [
    "Step-1: Upload the csv file.\n",
    "\n",
    "Step-2: Switch to the \"Cluster\" tab.\n",
    "\n",
    "Step-3: Click on the \"Choose\" button.From the list of clustering algorithms, select 'SimpleKMeans'.\n",
    "\n",
    "Step-4: Click on Start.The results window showing the clusters is shown below:\n"
   ]
  }
 ],
 "metadata": {
  "language_info": {
   "name": "python"
  }
 },
 "nbformat": 4,
 "nbformat_minor": 2
}
