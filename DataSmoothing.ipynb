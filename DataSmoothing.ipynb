{
 "cells": [
  {
   "cell_type": "code",
   "execution_count": null,
   "metadata": {},
   "outputs": [],
   "source": [
    "def create_bins(nums):\n",
    "    bins = []\n",
    "    n = len(nums)\n",
    "    i = 0\n",
    "    binsize = 3\n",
    "    while i < n:\n",
    "        if (n - i) < binsize:\n",
    "            bins.append(nums[i:])\n",
    "            i += n - i\n",
    "        else:\n",
    "            bins.append(nums[i:i + binsize])\n",
    "            i += binsize\n",
    "    return bins\n"
   ]
  },
  {
   "cell_type": "code",
   "execution_count": null,
   "metadata": {},
   "outputs": [],
   "source": [
    "\n",
    "def mean_smooth(bins):\n",
    "    for b in bins:\n",
    "        avg = 0\n",
    "        n = len(b)\n",
    "        for num in b:\n",
    "            avg += num\n",
    "        avg = avg / n\n",
    "        for i in range(n):\n",
    "            b[i] = avg\n",
    "    print(bins)\n",
    "\n"
   ]
  },
  {
   "cell_type": "code",
   "execution_count": null,
   "metadata": {},
   "outputs": [],
   "source": [
    "def median_smooth(bins):\n",
    "    for b in bins:\n",
    "        n = len(b)\n",
    "        if n % 2 == 0:\n",
    "            median = (b[n // 2] + b[n // 2 - 1]) / 2\n",
    "        else:\n",
    "            median = b[n // 2]\n",
    "        for i in range(n):\n",
    "            b[i] = median\n",
    "    print(bins)\n",
    "\n"
   ]
  },
  {
   "cell_type": "code",
   "execution_count": null,
   "metadata": {},
   "outputs": [],
   "source": [
    "def bound_smooth(bins):\n",
    "    for b in bins:\n",
    "        n = len(b)\n",
    "        l = b[0]\n",
    "        r = b[n-1]\n",
    "        for i in range(n):\n",
    "            if(b[i]-1<=r-b[i]):\n",
    "                b[i]=1\n",
    "            else:\n",
    "                b[i]=r\n",
    "    print(bins)"
   ]
  },
  {
   "cell_type": "code",
   "execution_count": null,
   "metadata": {},
   "outputs": [],
   "source": [
    "nums = [int(x) for x in input(\"Enter numbers: \").split()]\n",
    "nums.sort()\n",
    "binsize = int(input(\"Enter bin size: \"))\n",
    "n = len(nums)\n",
    "bins = create_bins(nums)\n",
    "print(bins)"
   ]
  },
  {
   "cell_type": "code",
   "execution_count": null,
   "metadata": {},
   "outputs": [],
   "source": [
    "\n",
    "mean_smooth(bins)\n",
    "bins = create_bins(nums)\n",
    "print(bins)\n",
    "\n",
    "median_smooth(bins)\n",
    "bins = create_bins(nums)\n",
    "print(bins)\n",
    "\n",
    "bound_smooth(bins)\n",
    "bins = create_bins(nums)\n",
    "print(bins)"
   ]
  }
 ],
 "metadata": {
  "language_info": {
   "name": "python"
  }
 },
 "nbformat": 4,
 "nbformat_minor": 2
}
