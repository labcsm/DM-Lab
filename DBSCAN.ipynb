{
  "cells": [
    {
      "cell_type": "code",
      "execution_count": 1,
      "metadata": {
        "colab": {
          "base_uri": "https://localhost:8080/"
        },
        "id": "SpaduV72Y5c-",
        "outputId": "f8ca2969-b35b-4440-df41-129aaaf2b2a6"
      },
      "outputs": [
        {
          "data": {
            "text/plain": [
              "array([-1, -1, -1, -1, -1, -1])"
            ]
          },
          "execution_count": 1,
          "metadata": {},
          "output_type": "execute_result"
        }
      ],
      "source": [
        "import numpy as np\n",
        "import pandas as pd\n",
        "from sklearn.cluster import DBSCAN\n",
        "\n",
        "X = np.array([[-1, -1], [-2, -1], [-3, -2], [1, 1], [2, 1], [3, 2]])\n",
        "clustering = DBSCAN(eps=0.3, min_samples=10).fit(X)\n",
        "clustering.labels_"
      ]
    },
    {
      "cell_type": "code",
      "execution_count": null,
      "metadata": {
        "id": "Vh627Hw6ZOl7"
      },
      "outputs": [],
      "source": [
        "\"\"\"\"\n",
        "\n",
        "STEP 1 : Create the Data set.\n",
        "\n",
        "STEP 2 : Upload the Data set. \n",
        "\n",
        "STEP 3 : Cluster  ->  MakeDensityBasedCluster\n",
        "\n",
        "STEP 4 :  Click 'Start'.\n",
        "\"\"\""
      ]
    }
  ],
  "metadata": {
    "colab": {
      "provenance": []
    },
    "kernelspec": {
      "display_name": "Python 3",
      "name": "python3"
    },
    "language_info": {
      "name": "python"
    }
  },
  "nbformat": 4,
  "nbformat_minor": 0
}
